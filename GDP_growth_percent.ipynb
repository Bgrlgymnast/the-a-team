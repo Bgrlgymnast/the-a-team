{
 "cells": [
  {
   "cell_type": "code",
   "execution_count": 4,
   "metadata": {},
   "outputs": [
    {
     "data": {
      "text/plain": [
       "['GDP Percent Growth.pkl']"
      ]
     },
     "execution_count": 4,
     "metadata": {},
     "output_type": "execute_result"
    }
   ],
   "source": [
    "import pandas as pd\n",
    "import numpy as np\n",
    "from sklearn.model_selection import train_test_split\n",
    "from sklearn.multioutput import MultiOutputClassifier\n",
    "from sklearn.linear_model import LogisticRegression\n",
    "from sklearn.preprocessing import StandardScaler\n",
    "\n",
    "# Load the provided dataset\n",
    "file_path = 'dummy_df-94.csv'\n",
    "df = pd.read_csv(file_path)\n",
    "\n",
    "# Bin the GDP Percent Growth into 3 categories: low, medium, high\n",
    "df['GDP Growth Category'] = pd.cut(df['GDP Percent Growth'], bins=3, labels=['Low', 'Medium', 'High'])\n",
    "\n",
    "# Prepare the feature matrix X and the target matrix y\n",
    "X = df.drop(['GDP Growth Category', 'GDP Percent Growth', 'Population Percent Growth'], axis=1)\n",
    "y = df[['GDP Growth Category']]\n",
    "\n",
    "# Split the data into training and testing sets\n",
    "X_train, X_test, y_train, y_test = train_test_split(X, y, test_size=0.2, random_state=42)\n",
    "\n",
    "# Convert categorical target to numerical for classification\n",
    "y_train = y_train.apply(lambda x: x.astype('category').cat.codes)\n",
    "y_test = y_test.apply(lambda x: x.astype('category').cat.codes)\n",
    "\n",
    "# Scale the feature data\n",
    "scaler = StandardScaler()\n",
    "X_train_scaled = scaler.fit_transform(X_train)\n",
    "X_test_scaled = scaler.transform(X_test)\n",
    "\n",
    "# Update logistic regression to allow for more iterations\n",
    "classifier = MultiOutputClassifier(LogisticRegression(max_iter=500))\n",
    "classifier.fit(X_train_scaled, y_train)\n",
    "\n",
    "# Make predictions on the scaled test data\n",
    "y_pred = classifier.predict(X_test_scaled)\n",
    "\n",
    "# Display the first few predictions\n",
    "y_pred[:5]\n",
    "\n",
    "import joblib\n",
    "\n",
    "# Save the trained classifier to a file\n",
    "joblib.dump(classifier, 'GDP Percent Growth.pkl')"
   ]
  }
 ],
 "metadata": {
  "kernelspec": {
   "display_name": "Python (dev)",
   "language": "python",
   "name": "dev"
  },
  "language_info": {
   "codemirror_mode": {
    "name": "ipython",
    "version": 3
   },
   "file_extension": ".py",
   "mimetype": "text/x-python",
   "name": "python",
   "nbconvert_exporter": "python",
   "pygments_lexer": "ipython3",
   "version": "3.10.14"
  }
 },
 "nbformat": 4,
 "nbformat_minor": 2
}
