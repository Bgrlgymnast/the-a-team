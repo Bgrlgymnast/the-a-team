{
  "cells": [
    {
      "cell_type": "markdown",
      "metadata": {
        "id": "mNKxOO7ME6Ok"
      },
      "source": [
        "## Preprocessing"
      ]
    },
    {
      "cell_type": "code",
      "execution_count": 11,
      "metadata": {
        "id": "6MQHQMI2E6Ol"
      },
      "outputs": [],
      "source": [
        "# Import our dependencies\n",
        "from sklearn.model_selection import train_test_split\n",
        "from sklearn.preprocessing import StandardScaler\n",
        "import pandas as pd\n",
        "import tensorflow as tf\n",
        "from scipy.stats import linregress"
      ]
    },
    {
      "cell_type": "code",
      "execution_count": 13,
      "metadata": {
        "colab": {
          "base_uri": "https://localhost:8080/",
          "height": 35
        },
        "id": "825AX8DNI7Yx",
        "outputId": "031f888d-08a3-4585-9013-811c8e7f2a99"
      },
      "outputs": [
        {
          "data": {
            "application/vnd.google.colaboratory.intrinsic+json": {
              "type": "string"
            },
            "text/plain": [
              "'GDP_linregressed.csv'"
            ]
          },
          "execution_count": 13,
          "metadata": {},
          "output_type": "execute_result"
        }
      ],
      "source": [
        "# Import and read the charity_data.csv with the correct header row\n",
        "application_df = pd.read_csv(\n",
        "    \"https://raw.githubusercontent.com/Bgrlgymnast/the-a-team/main/USGDP_1790-2023.csv\",\n",
        "    header=1\n",
        ")\n",
        "\n",
        "# Now filter the data to exclude years with zero values (1787-1789)\n",
        "filtered_df = application_df[application_df['Year'] >= 1790]\n",
        "\n",
        "# Columns to be filled using linear regression\n",
        "columns_to_fill = ['Nominal GDP (million of Dollars)',\n",
        "                   'Real GDP (millions of 2017 dollars)',\n",
        "                   'GDP Deflator (index 2017=100)',\n",
        "                   'Population',\n",
        "                   'Nominal GDP per capita (current dollars)',\n",
        "                   'Real GDP per capita (year 2017 dollars)']\n",
        "\n",
        "# Perform linear regression and fill in missing values for each column\n",
        "for column in columns_to_fill:\n",
        "    # Prepare the data for regression\n",
        "    x = filtered_df['Year']\n",
        "    y = filtered_df[column].replace(',', '', regex=True).astype(float)  # Convert strings to float if necessary\n",
        "\n",
        "    # Perform linear regression\n",
        "    slope, intercept, _, _, _ = linregress(x, y)\n",
        "\n",
        "    # Predict the values for 1787-1789\n",
        "    for year in range(1787, 1790):\n",
        "        predicted_value = intercept + slope * year\n",
        "        application_df.loc[application_df['Year'] == year, column] = predicted_value\n",
        "\n",
        "# Save the processed DataFrame to a new CSV file\n",
        "output_filename = \"GDP_linregressed.csv\"\n",
        "application_df.to_csv(output_filename, index=False)\n",
        "\n",
        "output_filename"
      ]
    },
    {
      "cell_type": "code",
      "execution_count": null,
      "metadata": {
        "id": "ucKZvuFoN7ub"
      },
      "outputs": [],
      "source": []
    }
  ],
  "metadata": {
    "colab": {
      "provenance": []
    },
    "kernelspec": {
      "display_name": "Python 3",
      "language": "python",
      "name": "python3"
    },
    "language_info": {
      "codemirror_mode": {
        "name": "ipython",
        "version": 3
      },
      "file_extension": ".py",
      "mimetype": "text/x-python",
      "name": "python",
      "nbconvert_exporter": "python",
      "pygments_lexer": "ipython3",
      "version": "3.-1.-1"
    },
    "vscode": {
      "interpreter": {
        "hash": "31f2aee4e71d21fbe5cf8b01ff0e069b9275f58929596ceb00d14d90e3e16cd6"
      }
    }
  },
  "nbformat": 4,
  "nbformat_minor": 0
}
