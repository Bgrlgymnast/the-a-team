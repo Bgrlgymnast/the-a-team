{
 "cells": [
  {
   "cell_type": "code",
   "execution_count": 1,
   "metadata": {},
   "outputs": [],
   "source": [
    "import pandas as pd\n",
    "import os"
   ]
  },
  {
   "cell_type": "code",
   "execution_count": 9,
   "metadata": {},
   "outputs": [
    {
     "name": "stdout",
     "output_type": "stream",
     "text": [
      "['Abraham Lincoln' 'Andrew Jackson' 'Andrew Johnson' 'Barack Obama'\n",
      " 'Benjamin Harrison' 'Calvin Coolidge' 'Chester Arthur' 'Donald Trump'\n",
      " 'Dwight Eisenhower' 'Franklin Pierce' 'Franklin Roosevelt' 'George Bush'\n",
      " 'George Washington' 'Gerald Ford' 'Grover Cleveland' 'Harry Truman'\n",
      " 'Herbert Hoover' 'James Buchanan' 'James Madison' 'James Monroe'\n",
      " 'James Polk' 'Jimmy Carter' 'John Adams' 'John Kennedy' 'John Tyler'\n",
      " 'Joseph Biden' 'Lyndon Johnson' 'Martin Buren' 'Millard Fillmore'\n",
      " 'Richard Nixon' 'Ronald Reagan' 'Rutherford Hayes' 'Theodore Roosevelt'\n",
      " 'Thomas Jefferson' 'Ulysses Grant' 'Warren Harding' 'William Clinton'\n",
      " 'William McKinley' 'William Taft' 'Woodrow Wilson' 'Zachary Taylor']\n"
     ]
    }
   ],
   "source": [
    "import pickle\n",
    "\n",
    "# Load the numpy array from the pickle file\n",
    "with open('Name_encoder.pkl', 'rb') as file:\n",
    "    president_labels = pickle.load(file)\n",
    "\n",
    "# Print the labels (which are probably just the array itself)\n",
    "print(president_labels)"
   ]
  },
  {
   "cell_type": "code",
   "execution_count": 10,
   "metadata": {},
   "outputs": [
    {
     "name": "stdout",
     "output_type": "stream",
     "text": [
      "{1: 'George Washington', 2: 'John Adams', 3: 'Thomas Jefferson', 4: 'James Madison', 5: 'James Monroe', 6: 'JohnQ Adams', 7: 'Andrew Jackson', 8: 'Martin Buren', 9: 'William Harrison', 10: 'John Tyler', 11: 'James Polk', 12: 'Zachary Taylor', 13: 'Millard Fillmore', 14: 'Franklin Pierce', 15: 'James Buchanan', 16: 'Abraham Lincoln', 17: 'Andrew Johnson', 18: 'Ulysses Grant', 19: 'Rutherford Hayes', 20: 'James Garfield', 21: 'Chester Arthur', 22: 'Grover Cleveland', 23: 'Benjamin Harrison', 24: 'Grover Cleveland', 25: 'William McKinley', 26: 'Theodore Roosevelt', 27: 'William Taft', 28: 'Woodrow Wilson', 29: 'Warren Harding', 30: 'Calvin Coolidge', 31: 'Herbert Hoover', 32: 'Franklin Roosevelt', 33: 'Harry Truman', 34: 'Dwight Eisenhower', 35: 'John Kennedy', 36: 'Lyndon Johnson', 37: 'Richard Nixon', 38: 'Gerald Ford', 39: 'Jimmy Carter', 40: 'Ronald Reagan', 41: 'GeorgeHW Bush', 42: 'William Clinton', 43: 'GeorgeW Bush', 44: 'Barack Obama', 45: 'Donald Trump', 46: 'Joseph Biden'}\n"
     ]
    }
   ],
   "source": [
    "# Load the CSV file containing the mapping of president numbers and names\n",
    "df = pd.read_csv('president_terms-94.csv')\n",
    "\n",
    "# Create a dictionary that maps president number to name\n",
    "number_to_name = dict(zip(df['Number'], df['Name']))\n",
    "\n",
    "# Example: print the mapping\n",
    "print(number_to_name)"
   ]
  },
  {
   "cell_type": "code",
   "execution_count": 12,
   "metadata": {},
   "outputs": [
    {
     "name": "stdout",
     "output_type": "stream",
     "text": [
      "Picture: 1.jpg, President: George Washington\n",
      "Picture: 10.jpg, President: John Tyler\n",
      "Picture: 11.jpg, President: James Polk\n",
      "Picture: 12.jpg, President: Zachary Taylor\n",
      "Picture: 13.jpg, President: Millard Fillmore\n",
      "Picture: 14.jpg, President: Franklin Pierce\n",
      "Picture: 15.jpg, President: James Buchanan\n",
      "Picture: 16.jpg, President: Abraham Lincoln\n",
      "Picture: 17.jpg, President: Andrew Johnson\n",
      "Picture: 18.jpg, President: Ulysses Grant\n",
      "Picture: 19.jpg, President: Rutherford Hayes\n",
      "Picture: 2.jpg, President: John Adams\n",
      "Picture: 20.jpg, President: James Garfield\n",
      "Picture: 21.jpg, President: Chester Arthur\n",
      "Picture: 22.jpg, President: Grover Cleveland\n",
      "Picture: 23.jpg, President: Benjamin Harrison\n",
      "Picture: 24.jpg, President: Grover Cleveland\n",
      "Picture: 25.jpg, President: William McKinley\n",
      "Picture: 26.jpg, President: Theodore Roosevelt\n",
      "Picture: 27.jpg, President: William Taft\n",
      "Picture: 28.jpg, President: Woodrow Wilson\n",
      "Picture: 29.jpg, President: Warren Harding\n",
      "Picture: 3.jpg, President: Thomas Jefferson\n",
      "Picture: 30.jpg, President: Calvin Coolidge\n",
      "Picture: 31.jpg, President: Herbert Hoover\n",
      "Picture: 32.jpg, President: Franklin Roosevelt\n",
      "Picture: 33.jpg, President: Harry Truman\n",
      "Picture: 34.jpg, President: Dwight Eisenhower\n",
      "Picture: 35.jpg, President: John Kennedy\n",
      "Picture: 36.jpg, President: Lyndon Johnson\n",
      "Picture: 37.jpg, President: Richard Nixon\n",
      "Picture: 38.jpg, President: Gerald Ford\n",
      "Picture: 39.jpg, President: Jimmy Carter\n",
      "Picture: 4.jpg, President: James Madison\n",
      "Picture: 40.jpg, President: Ronald Reagan\n",
      "Picture: 41.jpg, President: GeorgeHW Bush\n",
      "Picture: 42.jpg, President: William Clinton\n",
      "Picture: 43.jpg, President: GeorgeW Bush\n",
      "Picture: 44.jpg, President: Barack Obama\n",
      "Picture: 45.jpg, President: Donald Trump\n",
      "Picture: 46.jpg, President: Joseph Biden\n",
      "Picture: 47.jpg, President: Unknown\n",
      "Picture: 5.jpg, President: James Monroe\n",
      "Picture: 6.jpg, President: JohnQ Adams\n",
      "Picture: 7.jpg, President: Andrew Jackson\n",
      "Picture: 8.jpg, President: Martin Buren\n",
      "Picture: 9.jpg, President: William Harrison\n"
     ]
    }
   ],
   "source": [
    "# Folder containing pictures\n",
    "pictures_folder = 'Pres_pic/'\n",
    "\n",
    "# Get the list of picture filenames\n",
    "pictures = os.listdir(pictures_folder)\n",
    "\n",
    "# Loop through the pictures and map them to president names\n",
    "for picture in pictures:\n",
    "    # Extract the president's number from the filename (assuming format 'number.jpg')\n",
    "    president_number = int(picture.split('.')[0])  # Remove '.jpg' and convert to int\n",
    "\n",
    "    # Get the corresponding president name from the number\n",
    "    president_name = number_to_name.get(president_number, 'Unknown')\n",
    "\n",
    "    # Example: print the mapping\n",
    "    print(f\"Picture: {picture}, President: {president_name}\")\n",
    "    \n",
    "    # Here, you can also map the picture to the president's name for further processing"
   ]
  },
  {
   "cell_type": "code",
   "execution_count": 17,
   "metadata": {},
   "outputs": [
    {
     "name": "stdout",
     "output_type": "stream",
     "text": [
      "Renamed 25.jpg to William McKinley.jpg\n",
      "Renamed 26.jpg to Theodore Roosevelt.jpg\n",
      "Renamed 27.jpg to William Taft.jpg\n",
      "Renamed 28.jpg to Woodrow Wilson.jpg\n",
      "Renamed 29.jpg to Warren Harding.jpg\n",
      "Renamed 3.jpg to Thomas Jefferson.jpg\n",
      "Renamed 30.jpg to Calvin Coolidge.jpg\n",
      "Renamed 31.jpg to Herbert Hoover.jpg\n",
      "Renamed 32.jpg to Franklin Roosevelt.jpg\n",
      "Renamed 33.jpg to Harry Truman.jpg\n",
      "Renamed 34.jpg to Dwight Eisenhower.jpg\n",
      "Renamed 35.jpg to John Kennedy.jpg\n",
      "Renamed 36.jpg to Lyndon Johnson.jpg\n",
      "Renamed 37.jpg to Richard Nixon.jpg\n",
      "Renamed 38.jpg to Gerald Ford.jpg\n",
      "Renamed 39.jpg to Jimmy Carter.jpg\n",
      "Renamed 4.jpg to James Madison.jpg\n",
      "Renamed 40.jpg to Ronald Reagan.jpg\n",
      "Renamed 41.jpg to GeorgeHW Bush.jpg\n",
      "Renamed 42.jpg to William Clinton.jpg\n",
      "Renamed 43.jpg to GeorgeW Bush.jpg\n",
      "Renamed 44.jpg to Barack Obama.jpg\n",
      "Renamed 45.jpg to Donald Trump.jpg\n",
      "Renamed 46.jpg to Joseph Biden.jpg\n",
      "Renamed 47.jpg to Unknown.jpg\n",
      "Renamed 5.jpg to James Monroe.jpg\n",
      "Renamed 6.jpg to JohnQ Adams.jpg\n",
      "Renamed 7.jpg to Andrew Jackson.jpg\n",
      "Renamed 8.jpg to Martin Buren.jpg\n",
      "Renamed 9.jpg to William Harrison.jpg\n"
     ]
    }
   ],
   "source": [
    "# Define the specific ranges to process\n",
    "valid_numbers = list(range(3, 10)) + list(range(25, 48))\n",
    "\n",
    "# Loop through the pictures and map them to president names\n",
    "for picture in pictures:\n",
    "    # Extract the president's number from the filename (assuming format 'number.jpg')\n",
    "    president_number = int(picture.split('.')[0])  # Remove '.jpg' and convert to int\n",
    "\n",
    "    # Only process pictures in the specified ranges\n",
    "    if president_number in valid_numbers:\n",
    "        # Get the corresponding president name from the number\n",
    "        president_name = number_to_name.get(president_number, 'Unknown')\n",
    "\n",
    "        # Handle Grover Cleveland's two terms\n",
    "        if president_name == \"Grover Cleveland\":\n",
    "            # Append term number to distinguish between the two terms\n",
    "            new_filename = f\"{president_name}_term_{president_number}.jpg\"\n",
    "        else:\n",
    "            # Standard renaming for other presidents\n",
    "            new_filename = f\"{president_name}.jpg\"\n",
    "\n",
    "        # Rename the file\n",
    "        os.rename(os.path.join(pictures_folder, picture), os.path.join(pictures_folder, new_filename))\n",
    "\n",
    "        print(f\"Renamed {picture} to {new_filename}\")"
   ]
  }
 ],
 "metadata": {
  "kernelspec": {
   "display_name": "Python (dev)",
   "language": "python",
   "name": "dev"
  },
  "language_info": {
   "codemirror_mode": {
    "name": "ipython",
    "version": 3
   },
   "file_extension": ".py",
   "mimetype": "text/x-python",
   "name": "python",
   "nbconvert_exporter": "python",
   "pygments_lexer": "ipython3",
   "version": "3.10.14"
  }
 },
 "nbformat": 4,
 "nbformat_minor": 2
}
