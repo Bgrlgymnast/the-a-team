{
 "cells": [
  {
   "cell_type": "code",
   "execution_count": 2,
   "metadata": {},
   "outputs": [
    {
     "data": {
      "text/plain": [
       "'GDP_President_VP_model.pkl'"
      ]
     },
     "execution_count": 2,
     "metadata": {},
     "output_type": "execute_result"
    }
   ],
   "source": [
    "import pandas as pd\n",
    "from sklearn.model_selection import train_test_split\n",
    "from sklearn.multioutput import MultiOutputClassifier\n",
    "from sklearn.linear_model import LogisticRegression\n",
    "from sklearn.preprocessing import StandardScaler\n",
    "import joblib\n",
    "\n",
    "# Load your dataset\n",
    "df = pd.read_csv('dummy_df-94.csv')\n",
    "\n",
    "# Create the target columns for GDP Growth, President, and VP\n",
    "df['GDP Growth Category'] = pd.cut(df['GDP Percent Growth'], bins=3, labels=['Low', 'Medium', 'High'])\n",
    "\n",
    "# Convert categorical GDP Growth Category into numerical values\n",
    "df['GDP Growth Category'] = df['GDP Growth Category'].cat.codes\n",
    "\n",
    "# Prepare feature matrix X and target matrix y\n",
    "# Here we drop the columns that are not needed for prediction\n",
    "X = df.drop(columns=['GDP Growth Category', 'GDP Percent Growth', 'Population Percent Growth',\n",
    "                     'Name_Abraham Lincoln', 'VP_John Adams'])  # Drop unnecessary President/VP columns\n",
    "\n",
    "# y should include the GDP growth category and the President and VP columns (encoded as numerical)\n",
    "y = df[['GDP Growth Category', 'Name_Abraham Lincoln', 'VP_John Adams']]\n",
    "\n",
    "# Split the data into training and testing sets\n",
    "X_train, X_test, y_train, y_test = train_test_split(X, y, test_size=0.2, random_state=42)\n",
    "\n",
    "# Scale the feature data\n",
    "scaler = StandardScaler()\n",
    "X_train_scaled = scaler.fit_transform(X_train)\n",
    "X_test_scaled = scaler.transform(X_test)\n",
    "\n",
    "# Train the model using MultiOutputClassifier with Logistic Regression\n",
    "classifier = MultiOutputClassifier(LogisticRegression(max_iter=500))\n",
    "classifier.fit(X_train_scaled, y_train)\n",
    "\n",
    "# Save the trained model\n",
    "# model_path = 'GDP_President_VP_model.pkl'\n",
    "# joblib.dump(classifier, model_path)\n",
    "\n",
    "# # Return the path to the saved model for download\n",
    "# model_path\n",
    "\n"
   ]
  }
 ],
 "metadata": {
  "kernelspec": {
   "display_name": "base",
   "language": "python",
   "name": "python3"
  },
  "language_info": {
   "codemirror_mode": {
    "name": "ipython",
    "version": 3
   },
   "file_extension": ".py",
   "mimetype": "text/x-python",
   "name": "python",
   "nbconvert_exporter": "python",
   "pygments_lexer": "ipython3",
   "version": "3.11.7"
  }
 },
 "nbformat": 4,
 "nbformat_minor": 2
}
