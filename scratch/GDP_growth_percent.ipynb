{
 "cells": [
  {
   "cell_type": "code",
   "execution_count": 2,
   "metadata": {},
   "outputs": [
    {
     "data": {
      "text/plain": [
       "['GDP_Percent_Growth.pkl']"
      ]
     },
     "execution_count": 2,
     "metadata": {},
     "output_type": "execute_result"
    }
   ],
   "source": [
    "import pandas as pd\n",
    "import numpy as np\n",
    "from sklearn.model_selection import train_test_split\n",
    "from sklearn.multioutput import MultiOutputClassifier\n",
    "from sklearn.linear_model import LogisticRegression\n",
    "from sklearn.preprocessing import StandardScaler\n",
    "\n",
    "# Load the provided dataset\n",
    "df = pd.read_csv('dummy_df-94.csv')\n",
    "\n",
    "# Bin the GDP Percent Growth into 3 categories: low, medium, high\n",
    "df['GDP Growth Category'] = pd.cut(df['GDP Percent Growth'], bins=3, labels=['Low', 'Medium', 'High'])\n",
    "\n",
    "# Prepare the feature matrix X by excluding irrelevant or target columns\n",
    "# Dropping columns that are not predictors (GDP Percent Growth, Population Percent Growth, and categorical target columns)\n",
    "X = df.drop(columns=['GDP Growth Category', 'GDP Percent Growth', 'Population Percent Growth'])\n",
    "\n",
    "# Target matrix (GDP Growth Category)\n",
    "y = df[['GDP Growth Category']]\n",
    "\n",
    "# Split the data into training and testing sets\n",
    "X_train, X_test, y_train, y_test = train_test_split(X, y, test_size=0.2, random_state=42)\n",
    "\n",
    "# Convert categorical target to numerical for classification\n",
    "y_train = y_train.apply(lambda x: x.astype('category').cat.codes)\n",
    "y_test = y_test.apply(lambda x: x.astype('category').cat.codes)\n",
    "\n",
    "# Scale the feature data\n",
    "scaler = StandardScaler()\n",
    "X_train_scaled = scaler.fit_transform(X_train)\n",
    "X_test_scaled = scaler.transform(X_test)\n",
    "\n",
    "# Train the model using MultiOutputClassifier with Logistic Regression\n",
    "classifier = MultiOutputClassifier(LogisticRegression(max_iter=500))\n",
    "classifier.fit(X_train_scaled, y_train)\n",
    "\n",
    "# Make predictions on the scaled test data\n",
    "y_pred = classifier.predict(X_test_scaled)\n",
    "\n",
    "# Save the trained classifier to a file\n",
    "import joblib\n",
    "joblib.dump(classifier, 'GDP_Percent_Growth.pkl')\n"
   ]
  }
 ],
 "metadata": {
  "kernelspec": {
   "display_name": "Python (dev)",
   "language": "python",
   "name": "dev"
  },
  "language_info": {
   "codemirror_mode": {
    "name": "ipython",
    "version": 3
   },
   "file_extension": ".py",
   "mimetype": "text/x-python",
   "name": "python",
   "nbconvert_exporter": "python",
   "pygments_lexer": "ipython3",
   "version": "3.10.14"
  }
 },
 "nbformat": 4,
 "nbformat_minor": 2
}
