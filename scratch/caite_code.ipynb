{
  "cells": [
    {
      "cell_type": "markdown",
      "metadata": {
        "id": "mNKxOO7ME6Ok"
      },
      "source": [
        "## Preprocessing"
      ]
    },
    {
      "cell_type": "code",
      "execution_count": 4,
      "metadata": {
        "id": "6MQHQMI2E6Ol"
      },
      "outputs": [],
      "source": [
        "# Import our dependencies\n",
        "from sklearn.model_selection import train_test_split\n",
        "from sklearn.preprocessing import StandardScaler\n",
        "import pandas as pd\n",
        "# import tensorflow as tf\n",
        "from scipy.stats import linregress\n",
        "import numpy as np"
      ]
    },
    {
      "cell_type": "code",
      "execution_count": 6,
      "metadata": {
        "colab": {
          "base_uri": "https://localhost:8080/",
          "height": 35
        },
        "id": "825AX8DNI7Yx",
        "outputId": "031f888d-08a3-4585-9013-811c8e7f2a99"
      },
      "outputs": [
        {
          "data": {
            "text/plain": [
              "'GDP_logregressed.csv'"
            ]
          },
          "execution_count": 6,
          "metadata": {},
          "output_type": "execute_result"
        }
      ],
      "source": [
        "# Import and read the charity_data.csv with the correct header row\n",
        "application_df = pd.read_csv(\n",
        "    \"https://raw.githubusercontent.com/Bgrlgymnast/the-a-team/main/USGDP_1790-2023.csv\",\n",
        "    header=1\n",
        ")\n",
        "\n",
        "# Now filter the data to exclude years with zero values (1787-1789)\n",
        "filtered_df = application_df[application_df['Year'] >= 1790]\n",
        "\n",
        "# Columns to be filled using logarithmic regression\n",
        "columns_to_fill = ['Nominal GDP (million of Dollars)',\n",
        "                   'Real GDP (millions of 2017 dollars)',\n",
        "                   'GDP Deflator (index 2017=100)',\n",
        "                   'Population',\n",
        "                   'Nominal GDP per capita (current dollars)',\n",
        "                   'Real GDP per capita (year 2017 dollars)']\n",
        "\n",
        "# Perform logarithmic regression and fill in missing values for each column\n",
        "for column in columns_to_fill:\n",
        "    # Prepare the data for regression\n",
        "    x = filtered_df['Year']\n",
        "    y = filtered_df[column].replace(',', '', regex=True).astype(float)\n",
        "\n",
        "    # Apply log transformation\n",
        "    log_y = np.log(y)\n",
        "\n",
        "    # Perform linear regression on log-transformed data\n",
        "    slope, intercept, _, _, _ = linregress(x, log_y)\n",
        "\n",
        "    # Predict the values for 1787-1789 using the log model\n",
        "    for year in range(1787, 1790):\n",
        "        log_predicted_value = intercept + slope * year\n",
        "        predicted_value = np.exp(log_predicted_value)  # Convert back from log\n",
        "        application_df.loc[application_df['Year'] == year, column] = round(predicted_value,2)\n",
        "\n",
        "# Save the processed DataFrame to a new CSV file\n",
        "output_filename = \"GDP_logregressed.csv\"\n",
        "application_df.to_csv(output_filename, index=False)\n",
        "\n",
        "output_filename"
      ]
    },
    {
      "cell_type": "code",
      "execution_count": null,
      "metadata": {
        "id": "ucKZvuFoN7ub"
      },
      "outputs": [],
      "source": []
    }
  ],
  "metadata": {
    "colab": {
      "provenance": []
    },
    "kernelspec": {
      "display_name": "base",
      "language": "python",
      "name": "python3"
    },
    "language_info": {
      "codemirror_mode": {
        "name": "ipython",
        "version": 3
      },
      "file_extension": ".py",
      "mimetype": "text/x-python",
      "name": "python",
      "nbconvert_exporter": "python",
      "pygments_lexer": "ipython3",
      "version": "3.11.7"
    }
  },
  "nbformat": 4,
  "nbformat_minor": 0
}
